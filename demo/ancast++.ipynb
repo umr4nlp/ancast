{
 "cells": [
  {
   "cell_type": "code",
   "execution_count": 1,
   "id": "0021ab0b-702e-4e68-8cfb-214737cea661",
   "metadata": {},
   "outputs": [],
   "source": [
    "import os\n",
    "import sys"
   ]
  },
  {
   "cell_type": "code",
   "execution_count": 2,
   "id": "5244dcea-46d7-440d-8a36-851c9d737e72",
   "metadata": {},
   "outputs": [],
   "source": [
    "# `ancast/demo`\n",
    "project_root = os.getcwd()\n",
    "if os.path.basename(project_root) == \"demo\":\n",
    "    project_root = os.path.abspath(os.path.join(os.getcwd(), os.pardir))\n",
    "    sys.path.append(project_root)"
   ]
  },
  {
   "cell_type": "code",
   "execution_count": 3,
   "id": "b938e881-d786-4bdc-b99e-3b65187c294a",
   "metadata": {},
   "outputs": [],
   "source": [
    "from ancast import evaluate, evaluate_doc, io_utils"
   ]
  },
  {
   "cell_type": "markdown",
   "id": "2eb464b3-c512-42a2-9813-11bf0c385ebf",
   "metadata": {},
   "source": [
    "# Ancast++\n",
    "* Document level evaluation only\n",
    "* see `ancast.ipynb` for snt-level evaluation\n",
    "* the following two calls are the same\n",
    "```python\n",
    "# (1)\n",
    "evalaute(..., scope=\"doc\", ...)\n",
    "\n",
    "# (2), same as\n",
    "evaluate_doc(...)\n",
    "```"
   ]
  },
  {
   "cell_type": "markdown",
   "id": "4af8f6c9-b6ec-43ef-9bac-61d2ed95f7df",
   "metadata": {},
   "source": [
    "## 1. Comparing 2 UMR files"
   ]
  },
  {
   "cell_type": "code",
   "execution_count": 4,
   "id": "c7a5b303-8dbc-47a3-8332-c080d1dd95f0",
   "metadata": {},
   "outputs": [],
   "source": [
    "umr_test_fpath = \"../samples/umr_test.txt\"\n",
    "umr_gold_fpath = \"../samples/umr_gold.txt\""
   ]
  },
  {
   "cell_type": "code",
   "execution_count": 6,
   "id": "c0b6ee40-2a4f-4c97-812d-e880c99c1a36",
   "metadata": {},
   "outputs": [
    {
     "name": "stdout",
     "output_type": "stream",
     "text": [
      "# :: snt1\tLindsay left in order to eat lunch .\n",
      "\n",
      "# sentence level graph:\n",
      "(s1x0 / leave-11\n",
      "    :ARG0 (s1x1 / person\n",
      "        :name (s1x2 / name\n",
      "            :op1 \"Lindsay\")\n",
      "        :wiki \"Lindsay_Rappaport\")\n",
      "    :purpose (s1x3 / lunch-01\n",
      "        :ARG0 s1x1))\n",
      "\n",
      "# alignment:\n",
      "s1x1: 0-0\n",
      "s1x0: 1-1\n",
      "s1x3: 6-6\n",
      "\n",
      "# document level annotation:\n",
      "(s1s0 / sentence\n",
      "    :modal ((author :full-affirmative s1x0))\n",
      "    :temporal ((document-creation-time :before s1x0)))\n"
     ]
    }
   ],
   "source": [
    "print(io_utils.load_txt(umr_test_fpath, delimiter=\"\\n\\n\\n\")[0])"
   ]
  },
  {
   "cell_type": "code",
   "execution_count": 8,
   "id": "df7111fc-fcde-4497-b91d-b9b5f5551777",
   "metadata": {},
   "outputs": [
    {
     "name": "stdout",
     "output_type": "stream",
     "text": [
      "# :: snt1\t  Lindsay left in order to eat lunch .\n",
      "\n",
      "# sentence level graph:\n",
      "(s1l / leave-02\n",
      "    :ARG0 (s1p / person\n",
      "        :name (s1n / name :op1 \"Lindsay\"))\n",
      "    :aspect performance\n",
      "    :purpose (s1e / eat-01\n",
      "        :ARG0 s1p\n",
      "        :ARG1 (s1l2 / lunch)\n",
      "        :aspect performance))\n",
      "\n",
      "# alignment:\n",
      "s1l: 2-2\n",
      "s1p: 1-1\n",
      "s1n: 0-0\n",
      "s1e: 6-6\n",
      "s1l2: 7-7\n",
      "\n",
      "# document level annotation:\n",
      "(s1s0 / sentence\n",
      "    :temporal ((document-creation-time :before s1l)\n",
      "            (s1l :after s1e))\n",
      "    :modal ((root :modal author)\n",
      "            (author :full-affirmative s1l)\n",
      "            (author :full-negative s1e)))\n"
     ]
    }
   ],
   "source": [
    "print(io_utils.load_txt(umr_gold_fpath, delimiter=\"\\n\\n\\n\")[0])"
   ]
  },
  {
   "cell_type": "code",
   "execution_count": 11,
   "id": "5d1c7302-40d9-4dca-b750-58e1aee721e7",
   "metadata": {},
   "outputs": [
    {
     "name": "stdout",
     "output_type": "stream",
     "text": [
      "F score: {'sent': 0.4103448275862069, 'modal': 0.5, 'temporal': 0.5454545454545454, 'coref': 0.0, 'comp': 0.4524471867810081}\n"
     ]
    }
   ],
   "source": [
    "fscores = evaluate(\n",
    "    pred_inputs=umr_test_fpath,\n",
    "    gold_inputs=umr_gold_fpath,\n",
    "    data_format=\"umr\",\n",
    "    scope=\"doc\"\n",
    ")\n",
    "print(\"F score:\", fscores)"
   ]
  },
  {
   "cell_type": "code",
   "execution_count": 12,
   "id": "eb2f8c8c-5ffe-4191-81e6-66b48f96e094",
   "metadata": {},
   "outputs": [
    {
     "name": "stdout",
     "output_type": "stream",
     "text": [
      "F score: {'sent': 0.4103448275862069, 'modal': 0.5, 'temporal': 0.5454545454545454, 'coref': 0.0, 'comp': 0.4524471867810081}\n"
     ]
    }
   ],
   "source": [
    "fscores = evaluate_doc(\n",
    "    pred_inputs=umr_test_fpath,\n",
    "    gold_inputs=umr_gold_fpath,\n",
    "    data_format=\"umr\",\n",
    ")\n",
    "print(\"F score:\", fscores)"
   ]
  },
  {
   "cell_type": "markdown",
   "id": "cedb26e4-d5c5-44ab-8357-1671a5658f76",
   "metadata": {},
   "source": [
    "## 2. Comparing 2 UMR Strings"
   ]
  },
  {
   "cell_type": "code",
   "execution_count": 13,
   "id": "bdfbbc70-a863-45e1-83fd-197f65a38037",
   "metadata": {},
   "outputs": [],
   "source": [
    "test_umr=\"\"\"# :: snt1\tLindsay left in order to eat lunch .\n",
    "\n",
    "# sentence level graph:\n",
    "(s1x0 / leave-11\n",
    "    :ARG0 (s1x1 / person\n",
    "        :name (s1x2 / name\n",
    "            :op1 \"Lindsay\")\n",
    "        :wiki \"Lindsay_Rappaport\")\n",
    "    :purpose (s1x3 / lunch-01\n",
    "        :ARG0 s1x1))\n",
    "\n",
    "# alignment:\n",
    "s1x1: 0-0\n",
    "s1x0: 1-1\n",
    "s1x3: 6-6\n",
    "\n",
    "# document level annotation:\n",
    "(s1s0 / sentence\n",
    "    :modal ((author :full-affirmative s1x0))\n",
    "    :temporal ((document-creation-time :before s1x0)))\"\"\""
   ]
  },
  {
   "cell_type": "code",
   "execution_count": 14,
   "id": "e58894f3-7d3e-48ec-b210-67136728fc6c",
   "metadata": {},
   "outputs": [],
   "source": [
    "gold_umr=\"\"\"# :: snt1\t  Lindsay left in order to eat lunch .\n",
    "\n",
    "# sentence level graph:\n",
    "(s1l / leave-02\n",
    "    :ARG0 (s1p / person\n",
    "        :name (s1n / name :op1 \"Lindsay\"))\n",
    "    :aspect performance\n",
    "    :purpose (s1e / eat-01\n",
    "        :ARG0 s1p\n",
    "        :ARG1 (s1l2 / lunch)\n",
    "        :aspect performance))\n",
    "\n",
    "# alignment:\n",
    "s1l: 2-2\n",
    "s1p: 1-1\n",
    "s1n: 0-0\n",
    "s1e: 6-6\n",
    "s1l2: 7-7\n",
    "\n",
    "# document level annotation:\n",
    "(s1s0 / sentence\n",
    "    :temporal ((document-creation-time :before s1l)\n",
    "            (s1l :after s1e))\n",
    "    :modal ((root :modal author)\n",
    "            (author :full-affirmative s1l)\n",
    "            (author :full-negative s1e)))\"\"\""
   ]
  },
  {
   "cell_type": "code",
   "execution_count": 15,
   "id": "19a52f68-5da0-4832-afcc-6caf7f5448b5",
   "metadata": {},
   "outputs": [
    {
     "name": "stdout",
     "output_type": "stream",
     "text": [
      "F score: {'sent': 0.4214285714285715, 'modal': 0.5, 'temporal': 0.6666666666666666, 'coref': 0.0, 'comp': 0.4900264450321118}\n"
     ]
    }
   ],
   "source": [
    "fscores = evaluate_doc(\n",
    "    pred_inputs=test_umr,\n",
    "    gold_inputs=gold_umr,\n",
    "    data_format=\"umr\",\n",
    ")\n",
    "print(\"F score:\", fscores)"
   ]
  }
 ],
 "metadata": {
  "kernelspec": {
   "display_name": "Python 3 (ipykernel)",
   "language": "python",
   "name": "python3"
  },
  "language_info": {
   "codemirror_mode": {
    "name": "ipython",
    "version": 3
   },
   "file_extension": ".py",
   "mimetype": "text/x-python",
   "name": "python",
   "nbconvert_exporter": "python",
   "pygments_lexer": "ipython3",
   "version": "3.11.8"
  }
 },
 "nbformat": 4,
 "nbformat_minor": 5
}
