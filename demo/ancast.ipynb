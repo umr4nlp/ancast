{
 "cells": [
  {
   "cell_type": "code",
   "execution_count": 1,
   "id": "798bec47-d21c-4a98-b6b6-19efbf127e56",
   "metadata": {},
   "outputs": [],
   "source": [
    "import os\n",
    "import sys"
   ]
  },
  {
   "cell_type": "code",
   "execution_count": 2,
   "id": "83fa3e72-13fd-43ee-afd9-6bbba769570d",
   "metadata": {},
   "outputs": [],
   "source": [
    "# `ancast/demo`\n",
    "project_root = os.getcwd()\n",
    "if os.path.basename(project_root) == \"demo\":\n",
    "    project_root = os.path.abspath(os.path.join(os.getcwd(), os.pardir))\n",
    "    sys.path.append(project_root)"
   ]
  },
  {
   "cell_type": "code",
   "execution_count": 3,
   "id": "064d72d6-7f03-4992-a351-8518bd6f2d41",
   "metadata": {},
   "outputs": [],
   "source": [
    "from ancast import evaluate, evaluate_snt, io_utils"
   ]
  },
  {
   "cell_type": "markdown",
   "id": "d113ee60-b190-4e65-bd09-68f1d58b28e7",
   "metadata": {},
   "source": [
    "# Ancast\n",
    "* Sentence level evaluation only\n",
    "* see `ancast++.ipynb` for doc-level evaluation\n",
    "* the following two calls are the same\n",
    "```python\n",
    "# (1)\n",
    "evalaute(..., scope=\"snt\", ...)\n",
    "\n",
    "# (2), same as\n",
    "evaluate_snt(...)\n",
    "```"
   ]
  },
  {
   "cell_type": "markdown",
   "id": "760334dc-89f8-431a-88dc-e147afa50dfa",
   "metadata": {},
   "source": [
    "## 1. Comparing 2 AMR files"
   ]
  },
  {
   "cell_type": "markdown",
   "id": "2b374754-f627-4e2a-b3ad-0013884b1434",
   "metadata": {},
   "source": [
    "### AMR Data"
   ]
  },
  {
   "cell_type": "code",
   "execution_count": 4,
   "id": "d26fbf38-6f42-4bd8-bf98-9284ad47a832",
   "metadata": {},
   "outputs": [],
   "source": [
    "amr_test_fpath = \"../samples/amr_test.txt\"\n",
    "amr_gold_fpath = \"../samples/amr_gold.txt\""
   ]
  },
  {
   "cell_type": "code",
   "execution_count": 5,
   "id": "8ab42308-7935-492d-9ed0-16ddc960ec55",
   "metadata": {},
   "outputs": [
    {
     "name": "stdout",
     "output_type": "stream",
     "text": [
      "# ::id 0\n",
      "# ::annotator bart-amr\n",
      "# ::snt Resolutely support the thread starter! I compose a poem in reply:\n",
      "(z0 / multi-sentence\n",
      "    :snt1 (z1 / support-01\n",
      "              :mode imperative\n",
      "              :ARG0 (z2 / you)\n",
      "              :ARG1 (z3 / person\n",
      "                        :ARG0-of (z4 / start-01\n",
      "                                     :ARG1 (z5 / thread)))\n",
      "              :manner (z6 / resolute))\n",
      "    :snt2 (z7 / compose-02\n",
      "              :ARG0 (z8 / i)\n",
      "              :ARG1 (z9 / poem)\n",
      "              :ARG2-of (z10 / reply-01\n",
      "                            :ARG0 z8)))\n"
     ]
    }
   ],
   "source": [
    "# test sample\n",
    "print(io_utils.load_txt(amr_test_fpath, delimiter=\"\\n\\n\")[0])"
   ]
  },
  {
   "cell_type": "code",
   "execution_count": 6,
   "id": "a7041a3d-24be-4b7d-a9e0-ebffdd92594a",
   "metadata": {},
   "outputs": [
    {
     "name": "stdout",
     "output_type": "stream",
     "text": [
      "# ::id bolt12_64556_5627.1 ::date 2012-12-04T17:55:20 ::annotator SDL-AMR-09 ::preferred\n",
      "# ::snt Resolutely support the thread starter! I compose a poem in reply:\n",
      "# ::save-date Sun Dec 8, 2013 ::file bolt12_64556_5627_1.txt\n",
      "(m / multi-sentence\n",
      "      :snt1 (s / support-01 :mode imperative\n",
      "            :ARG0 (y / you)\n",
      "            :ARG1 (p / person\n",
      "                  :ARG0-of (s2 / start-01\n",
      "                        :ARG1 (t / thread)))\n",
      "            :manner (r / resolute))\n",
      "      :snt2 (r2 / reply-01\n",
      "            :ARG0 (i / i)\n",
      "            :ARG2 (c / compose-02\n",
      "                  :ARG0 i\n",
      "                  :ARG1 (p2 / poem))))\n"
     ]
    }
   ],
   "source": [
    "# gold sample\n",
    "print(io_utils.load_txt(amr_gold_fpath, delimiter=\"\\n\\n\")[1])"
   ]
  },
  {
   "cell_type": "markdown",
   "id": "abf8b17e-9f91-457d-92b7-22f8e657372f",
   "metadata": {},
   "source": [
    "### Ancast Snt-graph Eval\n",
    "* ancast can handle multiple input test/gold pairs\n",
    "* final fscores are hence output as a list of floats"
   ]
  },
  {
   "cell_type": "code",
   "execution_count": 7,
   "id": "bb5337ba-b72d-4427-913e-c73e5c7c1256",
   "metadata": {},
   "outputs": [
    {
     "name": "stdout",
     "output_type": "stream",
     "text": [
      "F score: 0.7052565114443566\n"
     ]
    }
   ],
   "source": [
    "fscores = evaluate(\n",
    "    pred_inputs=amr_test_fpath,\n",
    "    gold_inputs=amr_gold_fpath,\n",
    "    data_format=\"amr\",\n",
    "    scope=\"snt\"  # `ancast` rather than `ancast++`\n",
    ")\n",
    "print(\"F score:\", fscores[0])"
   ]
  },
  {
   "cell_type": "code",
   "execution_count": 8,
   "id": "d437d07c-bf94-44a4-886e-342805b76036",
   "metadata": {},
   "outputs": [
    {
     "name": "stdout",
     "output_type": "stream",
     "text": [
      "F score: 0.7052565114443566\n"
     ]
    }
   ],
   "source": [
    "fscores = evaluate_snt(\n",
    "    pred_inputs=amr_test_fpath,\n",
    "    gold_inputs=amr_gold_fpath,\n",
    "    data_format=\"amr\",\n",
    ")\n",
    "print(\"F score:\", fscores[0])"
   ]
  },
  {
   "cell_type": "markdown",
   "id": "809658c8-3681-49a8-9e06-497a74787587",
   "metadata": {},
   "source": [
    "## 2. Comparing 2 AMR Strings\n",
    "* sentence-level evaluation only"
   ]
  },
  {
   "cell_type": "code",
   "execution_count": 9,
   "id": "7b01aa29-bcda-457b-b148-343cb841c544",
   "metadata": {},
   "outputs": [],
   "source": [
    "pred_amr = \"\"\"# ::id 0\n",
    "# ::annotator bart-amr\n",
    "# ::snt Resolutely support the thread starter! I compose a poem in reply:\n",
    "(z0 / multi-sentence\n",
    "    :snt1 (z1 / support-01\n",
    "              :mode imperative\n",
    "              :ARG0 (z2 / you)\n",
    "              :ARG1 (z3 / person\n",
    "                        :ARG0-of (z4 / start-01\n",
    "                                     :ARG1 (z5 / thread)))\n",
    "              :manner (z6 / resolute))\n",
    "    :snt2 (z7 / compose-02\n",
    "              :ARG0 (z8 / i)\n",
    "              :ARG1 (z9 / poem)\n",
    "              :ARG2-of (z10 / reply-01\n",
    "                            :ARG0 z8)))\"\"\""
   ]
  },
  {
   "cell_type": "code",
   "execution_count": 10,
   "id": "4a91fafb-bbf6-48ae-96d7-46f13592ee07",
   "metadata": {},
   "outputs": [],
   "source": [
    "gold_amr = \"\"\"# ::id bolt12_64556_5627.1 ::date 2012-12-04T17:55:20 ::annotator SDL-AMR-09 ::preferred\n",
    "# ::snt Resolutely support the thread starter! I compose a poem in reply:\n",
    "# ::save-date Sun Dec 8, 2013 ::file bolt12_64556_5627_1.txt\n",
    "(m / multi-sentence\n",
    "      :snt1 (s / support-01 :mode imperative\n",
    "            :ARG0 (y / you)\n",
    "            :ARG1 (p / person\n",
    "                  :ARG0-of (s2 / start-01\n",
    "                        :ARG1 (t / thread)))\n",
    "            :manner (r / resolute))\n",
    "      :snt2 (r2 / reply-01\n",
    "            :ARG0 (i / i)\n",
    "            :ARG2 (c / compose-02\n",
    "                  :ARG0 i\n",
    "                  :ARG1 (p2 / poem))))\"\"\""
   ]
  },
  {
   "cell_type": "code",
   "execution_count": 11,
   "id": "d2dec050-1613-4b8e-9a1f-24136e7600b0",
   "metadata": {},
   "outputs": [
    {
     "name": "stdout",
     "output_type": "stream",
     "text": [
      "F score: 0.9166666666666666\n"
     ]
    }
   ],
   "source": [
    "fscores = evaluate_snt(\n",
    "    pred_inputs=pred_amr,\n",
    "    gold_inputs=gold_amr,\n",
    "    data_format=\"amr\",\n",
    ")\n",
    "print(\"F score:\", fscores[0])"
   ]
  },
  {
   "cell_type": "markdown",
   "id": "6e41b074-1ce7-488b-90f7-1da094aa4544",
   "metadata": {},
   "source": [
    "## 3. Comparing 2 UMR files"
   ]
  },
  {
   "cell_type": "code",
   "execution_count": 12,
   "id": "8a958c38-f8bd-4a54-a7a2-56c4dcd6454b",
   "metadata": {},
   "outputs": [],
   "source": [
    "umr_test_fpath = \"../samples/umr_test.txt\"\n",
    "umr_gold_fpath = \"../samples/umr_gold.txt\""
   ]
  },
  {
   "cell_type": "code",
   "execution_count": 14,
   "id": "533856b4-4284-4076-893f-17099e98dfd0",
   "metadata": {},
   "outputs": [
    {
     "name": "stdout",
     "output_type": "stream",
     "text": [
      "# sentence level graph:\n",
      "(s1x0 / leave-11\n",
      "    :ARG0 (s1x1 / person\n",
      "        :name (s1x2 / name\n",
      "            :op1 \"Lindsay\")\n",
      "        :wiki \"Lindsay_Rappaport\")\n",
      "    :purpose (s1x3 / lunch-01\n",
      "        :ARG0 s1x1))\n"
     ]
    }
   ],
   "source": [
    "print(io_utils.load_txt(umr_test_fpath, delimiter=\"\\n\\n\")[1])"
   ]
  },
  {
   "cell_type": "code",
   "execution_count": 15,
   "id": "b587e047-7444-42ae-b9ac-ba98033a1fb6",
   "metadata": {},
   "outputs": [
    {
     "name": "stdout",
     "output_type": "stream",
     "text": [
      "# sentence level graph:\n",
      "(s1l / leave-02\n",
      "    :ARG0 (s1p / person\n",
      "        :name (s1n / name :op1 \"Lindsay\"))\n",
      "    :aspect performance\n",
      "    :purpose (s1e / eat-01\n",
      "        :ARG0 s1p\n",
      "        :ARG1 (s1l2 / lunch)\n",
      "        :aspect performance))\n"
     ]
    }
   ],
   "source": [
    "print(io_utils.load_txt(umr_gold_fpath, delimiter=\"\\n\\n\")[1])"
   ]
  },
  {
   "cell_type": "code",
   "execution_count": 18,
   "id": "b5e6ace8-921e-4a4d-a9a8-890338746ac4",
   "metadata": {},
   "outputs": [
    {
     "name": "stdout",
     "output_type": "stream",
     "text": [
      "F score: 0.4103448275862069\n"
     ]
    }
   ],
   "source": [
    "fscores = evaluate_snt(\n",
    "    pred_inputs=umr_test_fpath,\n",
    "    gold_inputs=umr_gold_fpath,\n",
    "    data_format=\"umr\",\n",
    ")\n",
    "print(\"F score:\", fscores[0])"
   ]
  },
  {
   "cell_type": "markdown",
   "id": "d0873a22-c128-4842-842f-0ecd2cf57201",
   "metadata": {},
   "source": [
    "## 4. Comparing 2 UMR Strings"
   ]
  },
  {
   "cell_type": "code",
   "execution_count": 20,
   "id": "53318383-4fd5-453d-be66-715518fb4ed0",
   "metadata": {},
   "outputs": [],
   "source": [
    "test_umr=\"\"\"# :: snt1\tLindsay left in order to eat lunch .\n",
    "\n",
    "# sentence level graph:\n",
    "(s1x0 / leave-11\n",
    "    :ARG0 (s1x1 / person\n",
    "        :name (s1x2 / name\n",
    "            :op1 \"Lindsay\")\n",
    "        :wiki \"Lindsay_Rappaport\")\n",
    "    :purpose (s1x3 / lunch-01\n",
    "        :ARG0 s1x1))\n",
    "\n",
    "# alignment:\n",
    "s1x1: 0-0\n",
    "s1x0: 1-1\n",
    "s1x3: 6-6\n",
    "\n",
    "# document level annotation:\n",
    "(s1s0 / sentence\n",
    "    :modal ((author :full-affirmative s1x0))\n",
    "    :temporal ((document-creation-time :before s1x0)))\"\"\""
   ]
  },
  {
   "cell_type": "code",
   "execution_count": 21,
   "id": "3d4151ba-eaa1-4de8-8439-bfff4e75b8cf",
   "metadata": {},
   "outputs": [],
   "source": [
    "gold_umr=\"\"\"# :: snt1\t  Lindsay left in order to eat lunch .\n",
    "\n",
    "# sentence level graph:\n",
    "(s1l / leave-02\n",
    "    :ARG0 (s1p / person\n",
    "        :name (s1n / name :op1 \"Lindsay\"))\n",
    "    :aspect performance\n",
    "    :purpose (s1e / eat-01\n",
    "        :ARG0 s1p\n",
    "        :ARG1 (s1l2 / lunch)\n",
    "        :aspect performance))\n",
    "\n",
    "# alignment:\n",
    "s1l: 2-2\n",
    "s1p: 1-1\n",
    "s1n: 0-0\n",
    "s1e: 6-6\n",
    "s1l2: 7-7\n",
    "\n",
    "# document level annotation:\n",
    "(s1s0 / sentence\n",
    "    :temporal ((document-creation-time :before s1l)\n",
    "            (s1l :after s1e))\n",
    "    :modal ((root :modal author)\n",
    "            (author :full-affirmative s1l)\n",
    "            (author :full-negative s1e)))\"\"\""
   ]
  },
  {
   "cell_type": "code",
   "execution_count": 22,
   "id": "76c3efe3-a6e1-4732-81a7-191f6caa166d",
   "metadata": {},
   "outputs": [
    {
     "name": "stdout",
     "output_type": "stream",
     "text": [
      "F score: 0.4214285714285715\n"
     ]
    }
   ],
   "source": [
    "fscores = evaluate_snt(\n",
    "    pred_inputs=test_umr,\n",
    "    gold_inputs=gold_umr,\n",
    "    data_format=\"umr\",\n",
    ")\n",
    "print(\"F score:\", fscores[0])"
   ]
  },
  {
   "cell_type": "code",
   "execution_count": null,
   "id": "9677cf03-f518-4850-96a6-3429bd2ce990",
   "metadata": {},
   "outputs": [],
   "source": []
  }
 ],
 "metadata": {
  "kernelspec": {
   "display_name": "Python 3 (ipykernel)",
   "language": "python",
   "name": "python3"
  },
  "language_info": {
   "codemirror_mode": {
    "name": "ipython",
    "version": 3
   },
   "file_extension": ".py",
   "mimetype": "text/x-python",
   "name": "python",
   "nbconvert_exporter": "python",
   "pygments_lexer": "ipython3",
   "version": "3.11.8"
  }
 },
 "nbformat": 4,
 "nbformat_minor": 5
}
